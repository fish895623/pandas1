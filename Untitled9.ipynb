{
 "cells": [
  {
   "cell_type": "code",
   "execution_count": 1,
   "metadata": {},
   "outputs": [],
   "source": [
    "a = 'abc'\n",
    "b = 'acb'\n",
    "\n",
    "if a == b:\n",
    "    print(\"SAME\")\n",
    "else:\n",
    "    print(\"NOT\")"
   ]
  },
  {
   "cell_type": "code",
   "execution_count": 2,
   "metadata": {},
   "outputs": [],
   "source": [
    "mylist=[3,5,4,9,1,8,2,1]"
   ]
  },
  {
   "cell_type": "code",
   "execution_count": 3,
   "metadata": {},
   "outputs": [
    {
     "name": "stdout",
     "output_type": "stream",
     "text": [
      "[4, 8, 2]\n",
      "[5, 4, 9, 8]\n"
     ]
    }
   ],
   "source": [
    "a = [x for x in mylist if (x%2)==0]\n",
    "print(a)\n",
    "b = [x for x in mylist if x>3]\n",
    "print(b)"
   ]
  },
  {
   "cell_type": "code",
   "execution_count": 4,
   "metadata": {},
   "outputs": [
    {
     "name": "stdout",
     "output_type": "stream",
     "text": [
      "[[3, 5], [4, 9], [1, 8], [2, 1]]\n",
      "[3, 4, 1, 2]\n",
      "[5, 9, 1]\n"
     ]
    }
   ],
   "source": [
    "mylist=[[3,5],[4,9],[1,8],[2,1]]\n",
    "print(mylist)\n",
    "a = [i[0] for i in mylist]\n",
    "print(a)\n",
    "b = [i[1] for i in mylist if i[1]%2==1]\n",
    "print(b)"
   ]
  }
 ],
 "metadata": {
  "kernelspec": {
   "display_name": "Python 3",
   "language": "python",
   "name": "python3"
  },
  "language_info": {
   "codemirror_mode": {
    "name": "ipython",
    "version": 3
   },
   "file_extension": ".py",
   "mimetype": "text/x-python",
   "name": "python",
   "nbconvert_exporter": "python",
   "pygments_lexer": "ipython3",
   "version": "3.7.6"
  }
 },
 "nbformat": 4,
 "nbformat_minor": 4
}
