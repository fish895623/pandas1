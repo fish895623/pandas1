{
 "cells": [
  {
   "cell_type": "code",
   "execution_count": 19,
   "metadata": {},
   "outputs": [
    {
     "ename": "SyntaxError",
     "evalue": "invalid syntax (<ipython-input-19-52844a5f1509>, line 2)",
     "output_type": "error",
     "traceback": [
      "\u001b[1;36m  File \u001b[1;32m\"<ipython-input-19-52844a5f1509>\"\u001b[1;36m, line \u001b[1;32m2\u001b[0m\n\u001b[1;33m    from numpy as NaN\u001b[0m\n\u001b[1;37m                ^\u001b[0m\n\u001b[1;31mSyntaxError\u001b[0m\u001b[1;31m:\u001b[0m invalid syntax\n"
     ]
    }
   ],
   "source": [
    "import pandas as pd\n",
    "from numpy as NaN\n",
    "\n",
    "# 1\n",
    "df = pd.read_csv(\"../Lecture-data/acci.csv\", encoding='cp949')\n",
    "group_names = ['위험도 1', '위험도 2', '위험도 3', '위험도 4', '위험도 5']\n",
    "# Binning\n",
    "df['위험도'], mybin = pd.cut(\n",
    "    df['발생건수'], 5, labels=group_names, retbins=True)\n",
    "\n",
    "pd.get_dummies(df['발생건수'])\n",
    "pd.isnull(df)\n"
   ]
  },
  {
   "cell_type": "code",
   "execution_count": null,
   "metadata": {},
   "outputs": [],
   "source": []
  }
 ],
 "metadata": {
  "kernelspec": {
   "display_name": "Python 3",
   "language": "python",
   "name": "python3"
  },
  "language_info": {
   "codemirror_mode": {
    "name": "ipython",
    "version": 3
   },
   "file_extension": ".py",
   "mimetype": "text/x-python",
   "name": "python",
   "nbconvert_exporter": "python",
   "pygments_lexer": "ipython3",
   "version": "3.7.6"
  }
 },
 "nbformat": 4,
 "nbformat_minor": 4
}
