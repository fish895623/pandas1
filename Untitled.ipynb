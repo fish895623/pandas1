{
 "cells": [
  {
   "cell_type": "code",
   "execution_count": null,
   "metadata": {},
   "outputs": [],
   "source": [
    "a=3\n",
    "b=a"
   ]
  },
  {
   "cell_type": "code",
   "execution_count": 10,
   "metadata": {},
   "outputs": [
    {
     "name": "stdout",
     "output_type": "stream",
     "text": [
      "<class 'int'>\n",
      "<class 'int'>\n",
      "same\n"
     ]
    }
   ],
   "source": [
    "print(type(a))\n",
    "print(type(b))\n",
    "if id(a) == id(b):\n",
    "    print('same')\n",
    "else:\n",
    "    print('not')"
   ]
  },
  {
   "cell_type": "code",
   "execution_count": 13,
   "metadata": {},
   "outputs": [
    {
     "name": "stdout",
     "output_type": "stream",
     "text": [
      "2 3 4 5 6 1 "
     ]
    }
   ],
   "source": [
    "c = [2, 3, 4, 5, 6, 1]\n",
    "for i in range(len(c)):\n",
    "    print(c[i], end=' ')"
   ]
  },
  {
   "cell_type": "code",
   "execution_count": 15,
   "metadata": {},
   "outputs": [],
   "source": [
    "d = [[6,4],[2,4],[34, 45]]"
   ]
  },
  {
   "cell_type": "code",
   "execution_count": 22,
   "metadata": {},
   "outputs": [
    {
     "name": "stdout",
     "output_type": "stream",
     "text": [
      "2\n"
     ]
    }
   ],
   "source": [
    "print(len(d[0]))"
   ]
  },
  {
   "cell_type": "code",
   "execution_count": 28,
   "metadata": {},
   "outputs": [
    {
     "name": "stdout",
     "output_type": "stream",
     "text": [
      "가\n",
      "나\n",
      "다라\n",
      "마바\n"
     ]
    }
   ],
   "source": [
    "text = '가 나 다라 마바'\n",
    "for i in text.split():\n",
    "    print(i, sep=', ')"
   ]
  },
  {
   "cell_type": "code",
   "execution_count": 37,
   "metadata": {},
   "outputs": [
    {
     "name": "stdout",
     "output_type": "stream",
     "text": [
      "가 나 다라 마바\n"
     ]
    }
   ],
   "source": [
    "text = 'a b sss ssd dddd'\n",
    "text.replace(' ', \", \")\n",
    "\n",
    "print(text)"
   ]
  },
  {
   "cell_type": "code",
   "execution_count": 34,
   "metadata": {},
   "outputs": [],
   "source": [
    "def addcom(text):\n",
    "    text = text.replace(' ', \", \")\n",
    "    return text"
   ]
  },
  {
   "cell_type": "code",
   "execution_count": 38,
   "metadata": {},
   "outputs": [
    {
     "name": "stdout",
     "output_type": "stream",
     "text": [
      "a, b, xc, d, f\n"
     ]
    }
   ],
   "source": [
    "mine = 'a b xc d f'\n",
    "text2 = addcom(mine)\n",
    "print(text2)"
   ]
  },
  {
   "cell_type": "code",
   "execution_count": 46,
   "metadata": {},
   "outputs": [
    {
     "name": "stdout",
     "output_type": "stream",
     "text": [
      "c! 333bs cvs\n"
     ]
    }
   ],
   "source": [
    "sss = \"c! 333bs cvs:\"\n",
    "skip = [\"!\", \".\", \":\"]\n",
    "\n",
    "for ch in skip:\n",
    "    ss = sss.replace(ch, '')\n",
    "    \n",
    "print(ss)"
   ]
  },
  {
   "cell_type": "code",
   "execution_count": 62,
   "metadata": {},
   "outputs": [],
   "source": [
    "def removeElse(text):\n",
    "    skip = [\",\", \".\"]\n",
    "    for text in skip:\n",
    "        text = text.replace(skip, '')\n",
    "    return text"
   ]
  },
  {
   "cell_type": "code",
   "execution_count": 1,
   "metadata": {},
   "outputs": [
    {
     "name": "stdout",
     "output_type": "stream",
     "text": [
      "{'김': 1, '홍': 1}\n"
     ]
    }
   ],
   "source": [
    "def max_counts(text):\n",
    "    counts = {}\n",
    "    for i in text:\n",
    "        if i in counts:\n",
    "            counts[i] += 1\n",
    "        else:\n",
    "            counts[i] = 1\n",
    "    return counts\n",
    "\n",
    "\n",
    "people = {\"홍\", \"홍\", \"김\"}\n",
    "counts = max_counts(people)\n",
    "\n",
    "print(counts)"
   ]
  },
  {
   "cell_type": "code",
   "execution_count": 7,
   "metadata": {},
   "outputs": [
    {
     "data": {
      "text/plain": [
       "'크'"
      ]
     },
     "execution_count": 7,
     "metadata": {},
     "output_type": "execute_result"
    }
   ],
   "source": [
    "keya = {\"키\":3, \"크\": 4}\n",
    "\n",
    "\n",
    "# 최대값을 출력\n",
    "max(keya, key=lambda k: keya[k])"
   ]
  },
  {
   "cell_type": "code",
   "execution_count": 8,
   "metadata": {},
   "outputs": [
    {
     "name": "stdout",
     "output_type": "stream",
     "text": [
      "[3.] [5.]\n"
     ]
    }
   ],
   "source": [
    "import scipy.stats as ss\n",
    "\n",
    "nums=[1,1,1,2,2,3,2,3,3,3,3,1]\n",
    "# scipy.stats.mstats 는 숫자만 처리해준다.\n",
    "mode, count = ss.mstats.mode(nums)\n",
    "print(mode, count)"
   ]
  },
  {
   "cell_type": "code",
   "execution_count": null,
   "metadata": {},
   "outputs": [],
   "source": []
  }
 ],
 "metadata": {
  "kernelspec": {
   "display_name": "Python 3",
   "language": "python",
   "name": "python3"
  },
  "language_info": {
   "codemirror_mode": {
    "name": "ipython",
    "version": 3
   },
   "file_extension": ".py",
   "mimetype": "text/x-python",
   "name": "python",
   "nbconvert_exporter": "python",
   "pygments_lexer": "ipython3",
   "version": "3.8.2"
  }
 },
 "nbformat": 4,
 "nbformat_minor": 4
}
