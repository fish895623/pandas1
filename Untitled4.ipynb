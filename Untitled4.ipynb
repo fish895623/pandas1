{
 "cells": [
  {
   "cell_type": "code",
   "execution_count": 1,
   "metadata": {},
   "outputs": [
    {
     "name": "stdout",
     "output_type": "stream",
     "text": [
      "Hello  1\n",
      "Hello  2\n",
      "Hello  3\n",
      "Hello  4\n",
      "Hello  5\n",
      "Hello  6\n",
      "Hello  7\n",
      "Hello  8\n",
      "Hello  9\n",
      "Hello  10\n"
     ]
    }
   ],
   "source": [
    "# 퀴즈1\n",
    "for i in range(10):\n",
    "    print(\"Hello \", i+1)"
   ]
  },
  {
   "cell_type": "code",
   "execution_count": 2,
   "metadata": {},
   "outputs": [
    {
     "name": "stdout",
     "output_type": "stream",
     "text": [
      "Hello  1\n",
      "Hello  2\n",
      "Hello  3\n",
      "Hello  4\n",
      "Hello  5\n",
      "Hello  6\n",
      "Hello  7\n",
      "Hello  8\n",
      "Hello  9\n",
      "Hello  10\n"
     ]
    }
   ],
   "source": [
    "# 퀴즈 2\n",
    "import time\n",
    "\n",
    "for i in range(10):\n",
    "    print(\"Hello \", i+1)\n",
    "    time.sleep(1)"
   ]
  },
  {
   "cell_type": "code",
   "execution_count": 6,
   "metadata": {},
   "outputs": [
    {
     "name": "stdout",
     "output_type": "stream",
     "text": [
      "\n",
      "주사위 번호 : 2\n",
      "* * "
     ]
    }
   ],
   "source": [
    "# 퀴즈 3\n",
    "from IPython.display import clear_output\n",
    "import numpy as np\n",
    "import os\n",
    "import time\n",
    "\n",
    "\n",
    "\n",
    "\n",
    "for i in range(10):\n",
    "    clear_output(wait=True)\n",
    "    dice = (np.random.randint(5)+1)\n",
    "    print(\"\\n주사위 번호 :\", dice+1)\n",
    "    for i in range(dice+1):\n",
    "        print(\"* \", end='')\n",
    "    time.sleep(1)"
   ]
  },
  {
   "cell_type": "code",
   "execution_count": 2,
   "metadata": {
    "ExecuteTime": {
     "end_time": "2020-07-06T01:09:15.765194Z",
     "start_time": "2020-07-06T01:09:15.760841Z"
    }
   },
   "outputs": [
    {
     "name": "stdout",
     "output_type": "stream",
     "text": [
      "{'사과': 2, '포도': 2, '레몬': 1}\n"
     ]
    }
   ],
   "source": [
    "# 퀴즈 4\n",
    "training_data = [[\"연두\", 3, '사과'],\n",
    "                 ['노랑', 3, '사과'],\n",
    "                 ['빨강', 2, '포도'],\n",
    "                 ['빨강', 1, '포도'],\n",
    "                 ['노랑', 3, '레몬']\n",
    "                 ]\n",
    "\n",
    "def fruit_counts(data):\n",
    "    counts={}\n",
    "    for row in data:\n",
    "        label = row[-1]\n",
    "        if label not in counts:\n",
    "            counts[label]=0\n",
    "        counts[label]+=1\n",
    "    return counts\n",
    "result =fruit_counts(training_data)\n",
    "print(result)"
   ]
  },
  {
   "cell_type": "code",
   "execution_count": 3,
   "metadata": {
    "ExecuteTime": {
     "end_time": "2020-07-06T01:09:16.852846Z",
     "start_time": "2020-07-06T01:09:16.848684Z"
    }
   },
   "outputs": [
    {
     "name": "stdout",
     "output_type": "stream",
     "text": [
      "{'연두': 1, '노랑': 2, '빨강': 2}\n"
     ]
    }
   ],
   "source": [
    "# 퀴즈 5\n",
    "training_data = [[\"연두\", 3, '사과'],\n",
    "                 ['노랑', 3, '사과'],\n",
    "                 ['빨강', 2, '포도'],\n",
    "                 ['빨강', 1, '포도'],\n",
    "                 ['노랑', 3, '레몬']\n",
    "                 ]\n",
    "\n",
    "\n",
    "def fruit_counts(data):\n",
    "    counts = {}\n",
    "    for row in data:\n",
    "        color = row[0]\n",
    "        if color not in counts:\n",
    "            counts[color] = 0\n",
    "        counts[color] += 1\n",
    "    return counts\n",
    "\n",
    "\n",
    "result = fruit_counts(training_data)\n",
    "print(result)"
   ]
  },
  {
   "cell_type": "code",
   "execution_count": null,
   "metadata": {},
   "outputs": [],
   "source": []
  }
 ],
 "metadata": {
  "kernelspec": {
   "display_name": "Python 3",
   "language": "python",
   "name": "python3"
  },
  "language_info": {
   "codemirror_mode": {
    "name": "ipython",
    "version": 3
   },
   "file_extension": ".py",
   "mimetype": "text/x-python",
   "name": "python",
   "nbconvert_exporter": "python",
   "pygments_lexer": "ipython3",
   "version": "3.8.2"
  },
  "varInspector": {
   "cols": {
    "lenName": 16,
    "lenType": 16,
    "lenVar": 40
   },
   "kernels_config": {
    "python": {
     "delete_cmd_postfix": "",
     "delete_cmd_prefix": "del ",
     "library": "var_list.py",
     "varRefreshCmd": "print(var_dic_list())"
    },
    "r": {
     "delete_cmd_postfix": ") ",
     "delete_cmd_prefix": "rm(",
     "library": "var_list.r",
     "varRefreshCmd": "cat(var_dic_list()) "
    }
   },
   "position": {
    "height": "872px",
    "left": "1420px",
    "right": "20px",
    "top": "116px",
    "width": "414px"
   },
   "types_to_exclude": [
    "module",
    "function",
    "builtin_function_or_method",
    "instance",
    "_Feature"
   ],
   "window_display": true
  }
 },
 "nbformat": 4,
 "nbformat_minor": 4
}
